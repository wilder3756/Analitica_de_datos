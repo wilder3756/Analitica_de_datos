{
  "nbformat": 4,
  "nbformat_minor": 0,
  "metadata": {
    "colab": {
      "name": "ProyectoMineria_AnalisisPredictivo_RedesNeuronales.ipynb",
      "provenance": [],
      "collapsed_sections": [
        "TNmirFRUcN9I"
      ],
      "toc_visible": true
    },
    "kernelspec": {
      "name": "python3",
      "display_name": "Python 3"
    }
  },
  "cells": [
    {
      "cell_type": "markdown",
      "metadata": {
        "id": "DLk-znhUcTAb",
        "colab_type": "text"
      },
      "source": [
        "#Juan Camilo Restrepo Velez\n",
        "#William Leonardo Andrade Collazos\n",
        "#Wilder Valencia Ocampo\n"
      ]
    },
    {
      "cell_type": "markdown",
      "metadata": {
        "colab_type": "text",
        "id": "CjyX1B3ToEGM"
      },
      "source": [
        "# ProyectoMineria_AnalisisPredictivo\n",
        "\n",
        "1. Preparación de Datos\n",
        "2. División de los datos\n",
        "3. Aprendizaje del Modelo\n",
        "4. Evaluación del Modelo\n",
        "5. Predicción de Datos Futuros"
      ]
    },
    {
      "cell_type": "code",
      "metadata": {
        "id": "d11Y7w2iSdND",
        "colab_type": "code",
        "colab": {}
      },
      "source": [
        "import numpy as np\n",
        "import pandas as pd\n",
        "import matplotlib.pyplot as plt"
      ],
      "execution_count": 324,
      "outputs": []
    },
    {
      "cell_type": "markdown",
      "metadata": {
        "id": "4wGlEZwT_s4E",
        "colab_type": "text"
      },
      "source": [
        "# 1. Preparación de Datos\n",
        "-  Cargamos los datos\n",
        "-  Conocemos los datos con estadísticos\n",
        "- Seleccion de variables\n",
        "- Limpieza de atipicos\n",
        "- Limpieza de nulos\n",
        "- Transformación de datos  (sklearn sólo analiza variables numéricas)"
      ]
    },
    {
      "cell_type": "code",
      "metadata": {
        "id": "xwZ_HYEwl8J1",
        "colab_type": "code",
        "colab": {
          "base_uri": "https://localhost:8080/",
          "height": 194
        },
        "outputId": "1d36bd32-dda7-4f59-89b0-74db6eda952a"
      },
      "source": [
        "data = data = pd.read_csv(\"Datos.csv\", sep=\",\",na_values=\"unknown\")\n",
        "data.head()"
      ],
      "execution_count": 325,
      "outputs": [
        {
          "output_type": "execute_result",
          "data": {
            "text/html": [
              "<div>\n",
              "<style scoped>\n",
              "    .dataframe tbody tr th:only-of-type {\n",
              "        vertical-align: middle;\n",
              "    }\n",
              "\n",
              "    .dataframe tbody tr th {\n",
              "        vertical-align: top;\n",
              "    }\n",
              "\n",
              "    .dataframe thead th {\n",
              "        text-align: right;\n",
              "    }\n",
              "</style>\n",
              "<table border=\"1\" class=\"dataframe\">\n",
              "  <thead>\n",
              "    <tr style=\"text-align: right;\">\n",
              "      <th></th>\n",
              "      <th>age</th>\n",
              "      <th>job</th>\n",
              "      <th>marital</th>\n",
              "      <th>education</th>\n",
              "      <th>default</th>\n",
              "      <th>housing</th>\n",
              "      <th>loan</th>\n",
              "      <th>month</th>\n",
              "      <th>day_of_week</th>\n",
              "      <th>campaign</th>\n",
              "      <th>previous</th>\n",
              "      <th>cons.price.idx</th>\n",
              "      <th>cons.conf.idx</th>\n",
              "      <th>nr.employed</th>\n",
              "      <th>y</th>\n",
              "    </tr>\n",
              "  </thead>\n",
              "  <tbody>\n",
              "    <tr>\n",
              "      <th>0</th>\n",
              "      <td>56</td>\n",
              "      <td>housemaid</td>\n",
              "      <td>married</td>\n",
              "      <td>basic.4y</td>\n",
              "      <td>no</td>\n",
              "      <td>no</td>\n",
              "      <td>no</td>\n",
              "      <td>may</td>\n",
              "      <td>mon</td>\n",
              "      <td>1</td>\n",
              "      <td>0</td>\n",
              "      <td>93.994</td>\n",
              "      <td>-36.4</td>\n",
              "      <td>5191.0</td>\n",
              "      <td>no</td>\n",
              "    </tr>\n",
              "    <tr>\n",
              "      <th>1</th>\n",
              "      <td>57</td>\n",
              "      <td>services</td>\n",
              "      <td>married</td>\n",
              "      <td>high.school</td>\n",
              "      <td>no</td>\n",
              "      <td>no</td>\n",
              "      <td>no</td>\n",
              "      <td>may</td>\n",
              "      <td>mon</td>\n",
              "      <td>1</td>\n",
              "      <td>0</td>\n",
              "      <td>93.994</td>\n",
              "      <td>-36.4</td>\n",
              "      <td>5191.0</td>\n",
              "      <td>no</td>\n",
              "    </tr>\n",
              "    <tr>\n",
              "      <th>2</th>\n",
              "      <td>37</td>\n",
              "      <td>services</td>\n",
              "      <td>married</td>\n",
              "      <td>high.school</td>\n",
              "      <td>no</td>\n",
              "      <td>yes</td>\n",
              "      <td>no</td>\n",
              "      <td>may</td>\n",
              "      <td>mon</td>\n",
              "      <td>1</td>\n",
              "      <td>0</td>\n",
              "      <td>93.994</td>\n",
              "      <td>-36.4</td>\n",
              "      <td>5191.0</td>\n",
              "      <td>no</td>\n",
              "    </tr>\n",
              "    <tr>\n",
              "      <th>3</th>\n",
              "      <td>40</td>\n",
              "      <td>admin.</td>\n",
              "      <td>married</td>\n",
              "      <td>basic.6y</td>\n",
              "      <td>no</td>\n",
              "      <td>no</td>\n",
              "      <td>no</td>\n",
              "      <td>may</td>\n",
              "      <td>mon</td>\n",
              "      <td>1</td>\n",
              "      <td>0</td>\n",
              "      <td>93.994</td>\n",
              "      <td>-36.4</td>\n",
              "      <td>5191.0</td>\n",
              "      <td>no</td>\n",
              "    </tr>\n",
              "    <tr>\n",
              "      <th>4</th>\n",
              "      <td>56</td>\n",
              "      <td>services</td>\n",
              "      <td>married</td>\n",
              "      <td>high.school</td>\n",
              "      <td>no</td>\n",
              "      <td>no</td>\n",
              "      <td>yes</td>\n",
              "      <td>may</td>\n",
              "      <td>mon</td>\n",
              "      <td>1</td>\n",
              "      <td>0</td>\n",
              "      <td>93.994</td>\n",
              "      <td>-36.4</td>\n",
              "      <td>5191.0</td>\n",
              "      <td>no</td>\n",
              "    </tr>\n",
              "  </tbody>\n",
              "</table>\n",
              "</div>"
            ],
            "text/plain": [
              "   age        job  marital  ... cons.conf.idx nr.employed   y\n",
              "0   56  housemaid  married  ...         -36.4      5191.0  no\n",
              "1   57   services  married  ...         -36.4      5191.0  no\n",
              "2   37   services  married  ...         -36.4      5191.0  no\n",
              "3   40     admin.  married  ...         -36.4      5191.0  no\n",
              "4   56   services  married  ...         -36.4      5191.0  no\n",
              "\n",
              "[5 rows x 15 columns]"
            ]
          },
          "metadata": {
            "tags": []
          },
          "execution_count": 325
        }
      ]
    },
    {
      "cell_type": "code",
      "metadata": {
        "id": "T-d1pfBTdfjS",
        "colab_type": "code",
        "colab": {
          "base_uri": "https://localhost:8080/",
          "height": 408
        },
        "outputId": "9e4aab7a-28ab-4133-ce03-d8516496c38c"
      },
      "source": [
        "data.info()"
      ],
      "execution_count": 326,
      "outputs": [
        {
          "output_type": "stream",
          "text": [
            "<class 'pandas.core.frame.DataFrame'>\n",
            "RangeIndex: 41188 entries, 0 to 41187\n",
            "Data columns (total 15 columns):\n",
            " #   Column          Non-Null Count  Dtype  \n",
            "---  ------          --------------  -----  \n",
            " 0   age             41188 non-null  int64  \n",
            " 1   job             41188 non-null  object \n",
            " 2   marital         41188 non-null  object \n",
            " 3   education       41188 non-null  object \n",
            " 4   default         41188 non-null  object \n",
            " 5   housing         41188 non-null  object \n",
            " 6   loan            41188 non-null  object \n",
            " 7   month           41188 non-null  object \n",
            " 8   day_of_week     41188 non-null  object \n",
            " 9   campaign        41188 non-null  int64  \n",
            " 10  previous        41188 non-null  int64  \n",
            " 11  cons.price.idx  41188 non-null  float64\n",
            " 12  cons.conf.idx   41188 non-null  float64\n",
            " 13  nr.employed     41188 non-null  float64\n",
            " 14  y               41188 non-null  object \n",
            "dtypes: float64(3), int64(3), object(9)\n",
            "memory usage: 4.7+ MB\n"
          ],
          "name": "stdout"
        }
      ]
    },
    {
      "cell_type": "code",
      "metadata": {
        "id": "oNnNti3A9ARc",
        "colab_type": "code",
        "colab": {
          "base_uri": "https://localhost:8080/",
          "height": 408
        },
        "outputId": "86ef7213-e91d-4242-feb0-93ac21e8ec44"
      },
      "source": [
        "#Corrección del tipo de datos\n",
        "data['job']=data['job'].astype('category')\n",
        "data['marital']=data['marital'].astype('category')\n",
        "data['education']=data['education'].astype('category')\n",
        "data['default']=data['default'].astype('category')\n",
        "data['housing']=data['housing'].astype('category')\n",
        "data['loan']=data['loan'].astype('category')\n",
        "data['month']=data['month'].astype('category')\n",
        "data['day_of_week']=data['day_of_week'].astype('category')\n",
        "data['y']=data['y'].astype('category')\n",
        "data.info()\n"
      ],
      "execution_count": 327,
      "outputs": [
        {
          "output_type": "stream",
          "text": [
            "<class 'pandas.core.frame.DataFrame'>\n",
            "RangeIndex: 41188 entries, 0 to 41187\n",
            "Data columns (total 15 columns):\n",
            " #   Column          Non-Null Count  Dtype   \n",
            "---  ------          --------------  -----   \n",
            " 0   age             41188 non-null  int64   \n",
            " 1   job             41188 non-null  category\n",
            " 2   marital         41188 non-null  category\n",
            " 3   education       41188 non-null  category\n",
            " 4   default         41188 non-null  category\n",
            " 5   housing         41188 non-null  category\n",
            " 6   loan            41188 non-null  category\n",
            " 7   month           41188 non-null  category\n",
            " 8   day_of_week     41188 non-null  category\n",
            " 9   campaign        41188 non-null  int64   \n",
            " 10  previous        41188 non-null  int64   \n",
            " 11  cons.price.idx  41188 non-null  float64 \n",
            " 12  cons.conf.idx   41188 non-null  float64 \n",
            " 13  nr.employed     41188 non-null  float64 \n",
            " 14  y               41188 non-null  category\n",
            "dtypes: category(9), float64(3), int64(3)\n",
            "memory usage: 2.2 MB\n"
          ],
          "name": "stdout"
        }
      ]
    },
    {
      "cell_type": "code",
      "metadata": {
        "id": "USVhAKn_9K5Y",
        "colab_type": "code",
        "colab": {
          "base_uri": "https://localhost:8080/",
          "height": 212
        },
        "outputId": "34ca56de-7ba0-42e7-a70c-e48c9779ea92"
      },
      "source": [
        "#Descripción de variables numéricas\n",
        "print(data.describe())"
      ],
      "execution_count": 328,
      "outputs": [
        {
          "output_type": "stream",
          "text": [
            "               age      campaign  ...  cons.conf.idx   nr.employed\n",
            "count  41188.00000  41188.000000  ...   41188.000000  41188.000000\n",
            "mean      40.02406      2.567593  ...     -40.502600   5167.035911\n",
            "std       10.42125      2.770014  ...       4.628198     72.251528\n",
            "min       17.00000      1.000000  ...     -50.800000   4963.600000\n",
            "25%       32.00000      1.000000  ...     -42.700000   5099.100000\n",
            "50%       38.00000      2.000000  ...     -41.800000   5191.000000\n",
            "75%       47.00000      3.000000  ...     -36.400000   5228.100000\n",
            "max       98.00000     56.000000  ...     -26.900000   5228.100000\n",
            "\n",
            "[8 rows x 6 columns]\n"
          ],
          "name": "stdout"
        }
      ]
    },
    {
      "cell_type": "code",
      "metadata": {
        "id": "36ZVLDsJ9OAz",
        "colab_type": "code",
        "colab": {
          "base_uri": "https://localhost:8080/",
          "height": 344
        },
        "outputId": "a29da8ba-fd09-4824-81f0-815efbbf5611"
      },
      "source": [
        "#Descripción variables categóricas\n",
        "data['job'].value_counts().plot(kind='bar')"
      ],
      "execution_count": 329,
      "outputs": [
        {
          "output_type": "execute_result",
          "data": {
            "text/plain": [
              "<matplotlib.axes._subplots.AxesSubplot at 0x7f0d6f6348d0>"
            ]
          },
          "metadata": {
            "tags": []
          },
          "execution_count": 329
        },
        {
          "output_type": "display_data",
          "data": {
            "image/png": "[encoded data removed]",
            "text/plain": [
              "<Figure size 432x288 with 1 Axes>"
            ]
          },
          "metadata": {
            "tags": [],
            "needs_background": "light"
          }
        }
      ]
    },
    {
      "cell_type": "code",
      "metadata": {
        "id": "OFbHMlpDePW0",
        "colab_type": "code",
        "colab": {
          "base_uri": "https://localhost:8080/",
          "height": 316
        },
        "outputId": "24a28761-eb66-4aeb-a9f7-7dfbced7302f"
      },
      "source": [
        "data['marital'].value_counts().plot(kind='bar')"
      ],
      "execution_count": 330,
      "outputs": [
        {
          "output_type": "execute_result",
          "data": {
            "text/plain": [
              "<matplotlib.axes._subplots.AxesSubplot at 0x7f0d70888208>"
            ]
          },
          "metadata": {
            "tags": []
          },
          "execution_count": 330
        },
        {
          "output_type": "display_data",
          "data": {
            "image/png": "[encoded data removed]",
            "text/plain": [
              "<Figure size 432x288 with 1 Axes>"
            ]
          },
          "metadata": {
            "tags": [],
            "needs_background": "light"
          }
        }
      ]
    },
    {
      "cell_type": "code",
      "metadata": {
        "id": "QsQQqhcu1E5e",
        "colab_type": "code",
        "colab": {
          "base_uri": "https://localhost:8080/",
          "height": 371
        },
        "outputId": "56986307-aa77-42ad-a5e0-e84ef62c0fff"
      },
      "source": [
        "data['education'].value_counts().plot(kind='bar')"
      ],
      "execution_count": 331,
      "outputs": [
        {
          "output_type": "execute_result",
          "data": {
            "text/plain": [
              "<matplotlib.axes._subplots.AxesSubplot at 0x7f0d6edbe518>"
            ]
          },
          "metadata": {
            "tags": []
          },
          "execution_count": 331
        },
        {
          "output_type": "display_data",
          "data": {
            "image/png": "[encoded data removed]",
            "text/plain": [
              "<Figure size 432x288 with 1 Axes>"
            ]
          },
          "metadata": {
            "tags": [],
            "needs_background": "light"
          }
        }
      ]
    },
    {
      "cell_type": "code",
      "metadata": {
        "id": "vYXDNkx4eWM2",
        "colab_type": "code",
        "colab": {
          "base_uri": "https://localhost:8080/",
          "height": 291
        },
        "outputId": "785a0901-9cff-49e9-f693-135d66349b4d"
      },
      "source": [
        "data['default'].value_counts().plot(kind='bar')"
      ],
      "execution_count": 332,
      "outputs": [
        {
          "output_type": "execute_result",
          "data": {
            "text/plain": [
              "<matplotlib.axes._subplots.AxesSubplot at 0x7f0d6edfc4e0>"
            ]
          },
          "metadata": {
            "tags": []
          },
          "execution_count": 332
        },
        {
          "output_type": "display_data",
          "data": {
            "image/png": "[encoded data removed]",
            "text/plain": [
              "<Figure size 432x288 with 1 Axes>"
            ]
          },
          "metadata": {
            "tags": [],
            "needs_background": "light"
          }
        }
      ]
    },
    {
      "cell_type": "code",
      "metadata": {
        "id": "olD3nT3xeX1Y",
        "colab_type": "code",
        "colab": {
          "base_uri": "https://localhost:8080/",
          "height": 291
        },
        "outputId": "6c7df0b6-4c3a-4a1d-f12e-ab9b62724e8f"
      },
      "source": [
        "data['housing'].value_counts().plot(kind='bar')"
      ],
      "execution_count": 333,
      "outputs": [
        {
          "output_type": "execute_result",
          "data": {
            "text/plain": [
              "<matplotlib.axes._subplots.AxesSubplot at 0x7f0d6ed7ec50>"
            ]
          },
          "metadata": {
            "tags": []
          },
          "execution_count": 333
        },
        {
          "output_type": "display_data",
          "data": {
            "image/png": "[encoded data removed]",
            "text/plain": [
              "<Figure size 432x288 with 1 Axes>"
            ]
          },
          "metadata": {
            "tags": [],
            "needs_background": "light"
          }
        }
      ]
    },
    {
      "cell_type": "code",
      "metadata": {
        "colab_type": "code",
        "id": "DwFOXrOj5eZY",
        "colab": {
          "base_uri": "https://localhost:8080/",
          "height": 291
        },
        "outputId": "68b5b9d4-62d1-4884-aff3-f9e2d78b1393"
      },
      "source": [
        "data['loan'].value_counts().plot(kind='bar')"
      ],
      "execution_count": 334,
      "outputs": [
        {
          "output_type": "execute_result",
          "data": {
            "text/plain": [
              "<matplotlib.axes._subplots.AxesSubplot at 0x7f0d6ed99748>"
            ]
          },
          "metadata": {
            "tags": []
          },
          "execution_count": 334
        },
        {
          "output_type": "display_data",
          "data": {
            "image/png": "[encoded data removed]",
            "text/plain": [
              "<Figure size 432x288 with 1 Axes>"
            ]
          },
          "metadata": {
            "tags": [],
            "needs_background": "light"
          }
        }
      ]
    },
    {
      "cell_type": "code",
      "metadata": {
        "colab_type": "code",
        "id": "iRasT7rY5quO",
        "colab": {
          "base_uri": "https://localhost:8080/",
          "height": 295
        },
        "outputId": "59c1e8ea-c00f-4ba1-9ac1-93a4320b3ee2"
      },
      "source": [
        "data['month'].value_counts().plot(kind='bar')"
      ],
      "execution_count": 335,
      "outputs": [
        {
          "output_type": "execute_result",
          "data": {
            "text/plain": [
              "<matplotlib.axes._subplots.AxesSubplot at 0x7f0d6ecf45c0>"
            ]
          },
          "metadata": {
            "tags": []
          },
          "execution_count": 335
        },
        {
          "output_type": "display_data",
          "data": {
            "image/png": "[encoded data removed]",
            "text/plain": [
              "<Figure size 432x288 with 1 Axes>"
            ]
          },
          "metadata": {
            "tags": [],
            "needs_background": "light"
          }
        }
      ]
    },
    {
      "cell_type": "code",
      "metadata": {
        "colab_type": "code",
        "id": "y-ZZYKsl5tPk",
        "colab": {
          "base_uri": "https://localhost:8080/",
          "height": 295
        },
        "outputId": "46f03fbd-5e66-453f-ca6b-2ad09763ebdf"
      },
      "source": [
        "data['day_of_week'].value_counts().plot(kind='bar')"
      ],
      "execution_count": 336,
      "outputs": [
        {
          "output_type": "execute_result",
          "data": {
            "text/plain": [
              "<matplotlib.axes._subplots.AxesSubplot at 0x7f0d6ebcc0f0>"
            ]
          },
          "metadata": {
            "tags": []
          },
          "execution_count": 336
        },
        {
          "output_type": "display_data",
          "data": {
            "image/png": "[encoded data removed]",
            "text/plain": [
              "<Figure size 432x288 with 1 Axes>"
            ]
          },
          "metadata": {
            "tags": [],
            "needs_background": "light"
          }
        }
      ]
    },
    {
      "cell_type": "code",
      "metadata": {
        "colab_type": "code",
        "id": "y3cNxajp5t83",
        "colab": {
          "base_uri": "https://localhost:8080/",
          "height": 291
        },
        "outputId": "6c5e858a-8266-4ca2-9357-d3f04b225d1a"
      },
      "source": [
        "data['y'].value_counts().plot(kind='bar')"
      ],
      "execution_count": 337,
      "outputs": [
        {
          "output_type": "execute_result",
          "data": {
            "text/plain": [
              "<matplotlib.axes._subplots.AxesSubplot at 0x7f0d6eb38208>"
            ]
          },
          "metadata": {
            "tags": []
          },
          "execution_count": 337
        },
        {
          "output_type": "display_data",
          "data": {
            "image/png": "[encoded data removed]",
            "text/plain": [
              "<Figure size 432x288 with 1 Axes>"
            ]
          },
          "metadata": {
            "tags": [],
            "needs_background": "light"
          }
        }
      ]
    },
    {
      "cell_type": "code",
      "metadata": {
        "id": "_ajD2OhX9Hth",
        "colab_type": "code",
        "colab": {
          "base_uri": "https://localhost:8080/",
          "height": 231
        },
        "outputId": "b9af5558-180c-4882-e697-656e9ec707f5"
      },
      "source": [
        "#Dummies\n",
        "dummiesClase=pd.get_dummies(data['job'])\n",
        "data=data.drop('job', axis=1)\n",
        "data=data.join(dummiesClase)\n",
        "\n",
        "dummiesClase=pd.get_dummies(data['marital'])\n",
        "data=data.drop('marital', axis=1)\n",
        "data=data.join(dummiesClase)\n",
        "\n",
        "dummiesClase=pd.get_dummies(data['education'])\n",
        "data=data.drop('education', axis=1)\n",
        "data=data.join(dummiesClase)\n",
        "\n",
        "dummiesClase=pd.get_dummies(data['month'])\n",
        "data=data.drop('month', axis=1)\n",
        "data=data.join(dummiesClase)\n",
        "\n",
        "dummiesClase=pd.get_dummies(data['day_of_week'])\n",
        "data=data.drop('day_of_week', axis=1)\n",
        "data=data.join(dummiesClase)\n",
        "\n",
        "data.head()"
      ],
      "execution_count": 338,
      "outputs": [
        {
          "output_type": "execute_result",
          "data": {
            "text/html": [
              "<div>\n",
              "<style scoped>\n",
              "    .dataframe tbody tr th:only-of-type {\n",
              "        vertical-align: middle;\n",
              "    }\n",
              "\n",
              "    .dataframe tbody tr th {\n",
              "        vertical-align: top;\n",
              "    }\n",
              "\n",
              "    .dataframe thead th {\n",
              "        text-align: right;\n",
              "    }\n",
              "</style>\n",
              "<table border=\"1\" class=\"dataframe\">\n",
              "  <thead>\n",
              "    <tr style=\"text-align: right;\">\n",
              "      <th></th>\n",
              "      <th>age</th>\n",
              "      <th>default</th>\n",
              "      <th>housing</th>\n",
              "      <th>loan</th>\n",
              "      <th>campaign</th>\n",
              "      <th>previous</th>\n",
              "      <th>cons.price.idx</th>\n",
              "      <th>cons.conf.idx</th>\n",
              "      <th>nr.employed</th>\n",
              "      <th>y</th>\n",
              "      <th>admin.</th>\n",
              "      <th>blue-collar</th>\n",
              "      <th>entrepreneur</th>\n",
              "      <th>housemaid</th>\n",
              "      <th>management</th>\n",
              "      <th>retired</th>\n",
              "      <th>self-employed</th>\n",
              "      <th>services</th>\n",
              "      <th>student</th>\n",
              "      <th>technician</th>\n",
              "      <th>unemployed</th>\n",
              "      <th>divorced</th>\n",
              "      <th>married</th>\n",
              "      <th>single</th>\n",
              "      <th>basic.4y</th>\n",
              "      <th>basic.6y</th>\n",
              "      <th>basic.9y</th>\n",
              "      <th>high.school</th>\n",
              "      <th>illiterate</th>\n",
              "      <th>professional.course</th>\n",
              "      <th>university.degree</th>\n",
              "      <th>apr</th>\n",
              "      <th>aug</th>\n",
              "      <th>dec</th>\n",
              "      <th>jul</th>\n",
              "      <th>jun</th>\n",
              "      <th>mar</th>\n",
              "      <th>may</th>\n",
              "      <th>nov</th>\n",
              "      <th>oct</th>\n",
              "      <th>sep</th>\n",
              "      <th>fri</th>\n",
              "      <th>mon</th>\n",
              "      <th>thu</th>\n",
              "      <th>tue</th>\n",
              "      <th>wed</th>\n",
              "    </tr>\n",
              "  </thead>\n",
              "  <tbody>\n",
              "    <tr>\n",
              "      <th>0</th>\n",
              "      <td>56</td>\n",
              "      <td>no</td>\n",
              "      <td>no</td>\n",
              "      <td>no</td>\n",
              "      <td>1</td>\n",
              "      <td>0</td>\n",
              "      <td>93.994</td>\n",
              "      <td>-36.4</td>\n",
              "      <td>5191.0</td>\n",
              "      <td>no</td>\n",
              "      <td>0</td>\n",
              "      <td>0</td>\n",
              "      <td>0</td>\n",
              "      <td>1</td>\n",
              "      <td>0</td>\n",
              "      <td>0</td>\n",
              "      <td>0</td>\n",
              "      <td>0</td>\n",
              "      <td>0</td>\n",
              "      <td>0</td>\n",
              "      <td>0</td>\n",
              "      <td>0</td>\n",
              "      <td>1</td>\n",
              "      <td>0</td>\n",
              "      <td>1</td>\n",
              "      <td>0</td>\n",
              "      <td>0</td>\n",
              "      <td>0</td>\n",
              "      <td>0</td>\n",
              "      <td>0</td>\n",
              "      <td>0</td>\n",
              "      <td>0</td>\n",
              "      <td>0</td>\n",
              "      <td>0</td>\n",
              "      <td>0</td>\n",
              "      <td>0</td>\n",
              "      <td>0</td>\n",
              "      <td>1</td>\n",
              "      <td>0</td>\n",
              "      <td>0</td>\n",
              "      <td>0</td>\n",
              "      <td>0</td>\n",
              "      <td>1</td>\n",
              "      <td>0</td>\n",
              "      <td>0</td>\n",
              "      <td>0</td>\n",
              "    </tr>\n",
              "    <tr>\n",
              "      <th>1</th>\n",
              "      <td>57</td>\n",
              "      <td>no</td>\n",
              "      <td>no</td>\n",
              "      <td>no</td>\n",
              "      <td>1</td>\n",
              "      <td>0</td>\n",
              "      <td>93.994</td>\n",
              "      <td>-36.4</td>\n",
              "      <td>5191.0</td>\n",
              "      <td>no</td>\n",
              "      <td>0</td>\n",
              "      <td>0</td>\n",
              "      <td>0</td>\n",
              "      <td>0</td>\n",
              "      <td>0</td>\n",
              "      <td>0</td>\n",
              "      <td>0</td>\n",
              "      <td>1</td>\n",
              "      <td>0</td>\n",
              "      <td>0</td>\n",
              "      <td>0</td>\n",
              "      <td>0</td>\n",
              "      <td>1</td>\n",
              "      <td>0</td>\n",
              "      <td>0</td>\n",
              "      <td>0</td>\n",
              "      <td>0</td>\n",
              "      <td>1</td>\n",
              "      <td>0</td>\n",
              "      <td>0</td>\n",
              "      <td>0</td>\n",
              "      <td>0</td>\n",
              "      <td>0</td>\n",
              "      <td>0</td>\n",
              "      <td>0</td>\n",
              "      <td>0</td>\n",
              "      <td>0</td>\n",
              "      <td>1</td>\n",
              "      <td>0</td>\n",
              "      <td>0</td>\n",
              "      <td>0</td>\n",
              "      <td>0</td>\n",
              "      <td>1</td>\n",
              "      <td>0</td>\n",
              "      <td>0</td>\n",
              "      <td>0</td>\n",
              "    </tr>\n",
              "    <tr>\n",
              "      <th>2</th>\n",
              "      <td>37</td>\n",
              "      <td>no</td>\n",
              "      <td>yes</td>\n",
              "      <td>no</td>\n",
              "      <td>1</td>\n",
              "      <td>0</td>\n",
              "      <td>93.994</td>\n",
              "      <td>-36.4</td>\n",
              "      <td>5191.0</td>\n",
              "      <td>no</td>\n",
              "      <td>0</td>\n",
              "      <td>0</td>\n",
              "      <td>0</td>\n",
              "      <td>0</td>\n",
              "      <td>0</td>\n",
              "      <td>0</td>\n",
              "      <td>0</td>\n",
              "      <td>1</td>\n",
              "      <td>0</td>\n",
              "      <td>0</td>\n",
              "      <td>0</td>\n",
              "      <td>0</td>\n",
              "      <td>1</td>\n",
              "      <td>0</td>\n",
              "      <td>0</td>\n",
              "      <td>0</td>\n",
              "      <td>0</td>\n",
              "      <td>1</td>\n",
              "      <td>0</td>\n",
              "      <td>0</td>\n",
              "      <td>0</td>\n",
              "      <td>0</td>\n",
              "      <td>0</td>\n",
              "      <td>0</td>\n",
              "      <td>0</td>\n",
              "      <td>0</td>\n",
              "      <td>0</td>\n",
              "      <td>1</td>\n",
              "      <td>0</td>\n",
              "      <td>0</td>\n",
              "      <td>0</td>\n",
              "      <td>0</td>\n",
              "      <td>1</td>\n",
              "      <td>0</td>\n",
              "      <td>0</td>\n",
              "      <td>0</td>\n",
              "    </tr>\n",
              "    <tr>\n",
              "      <th>3</th>\n",
              "      <td>40</td>\n",
              "      <td>no</td>\n",
              "      <td>no</td>\n",
              "      <td>no</td>\n",
              "      <td>1</td>\n",
              "      <td>0</td>\n",
              "      <td>93.994</td>\n",
              "      <td>-36.4</td>\n",
              "      <td>5191.0</td>\n",
              "      <td>no</td>\n",
              "      <td>1</td>\n",
              "      <td>0</td>\n",
              "      <td>0</td>\n",
              "      <td>0</td>\n",
              "      <td>0</td>\n",
              "      <td>0</td>\n",
              "      <td>0</td>\n",
              "      <td>0</td>\n",
              "      <td>0</td>\n",
              "      <td>0</td>\n",
              "      <td>0</td>\n",
              "      <td>0</td>\n",
              "      <td>1</td>\n",
              "      <td>0</td>\n",
              "      <td>0</td>\n",
              "      <td>1</td>\n",
              "      <td>0</td>\n",
              "      <td>0</td>\n",
              "      <td>0</td>\n",
              "      <td>0</td>\n",
              "      <td>0</td>\n",
              "      <td>0</td>\n",
              "      <td>0</td>\n",
              "      <td>0</td>\n",
              "      <td>0</td>\n",
              "      <td>0</td>\n",
              "      <td>0</td>\n",
              "      <td>1</td>\n",
              "      <td>0</td>\n",
              "      <td>0</td>\n",
              "      <td>0</td>\n",
              "      <td>0</td>\n",
              "      <td>1</td>\n",
              "      <td>0</td>\n",
              "      <td>0</td>\n",
              "      <td>0</td>\n",
              "    </tr>\n",
              "    <tr>\n",
              "      <th>4</th>\n",
              "      <td>56</td>\n",
              "      <td>no</td>\n",
              "      <td>no</td>\n",
              "      <td>yes</td>\n",
              "      <td>1</td>\n",
              "      <td>0</td>\n",
              "      <td>93.994</td>\n",
              "      <td>-36.4</td>\n",
              "      <td>5191.0</td>\n",
              "      <td>no</td>\n",
              "      <td>0</td>\n",
              "      <td>0</td>\n",
              "      <td>0</td>\n",
              "      <td>0</td>\n",
              "      <td>0</td>\n",
              "      <td>0</td>\n",
              "      <td>0</td>\n",
              "      <td>1</td>\n",
              "      <td>0</td>\n",
              "      <td>0</td>\n",
              "      <td>0</td>\n",
              "      <td>0</td>\n",
              "      <td>1</td>\n",
              "      <td>0</td>\n",
              "      <td>0</td>\n",
              "      <td>0</td>\n",
              "      <td>0</td>\n",
              "      <td>1</td>\n",
              "      <td>0</td>\n",
              "      <td>0</td>\n",
              "      <td>0</td>\n",
              "      <td>0</td>\n",
              "      <td>0</td>\n",
              "      <td>0</td>\n",
              "      <td>0</td>\n",
              "      <td>0</td>\n",
              "      <td>0</td>\n",
              "      <td>1</td>\n",
              "      <td>0</td>\n",
              "      <td>0</td>\n",
              "      <td>0</td>\n",
              "      <td>0</td>\n",
              "      <td>1</td>\n",
              "      <td>0</td>\n",
              "      <td>0</td>\n",
              "      <td>0</td>\n",
              "    </tr>\n",
              "  </tbody>\n",
              "</table>\n",
              "</div>"
            ],
            "text/plain": [
              "   age default housing loan  campaign  previous  ...  sep  fri  mon thu  tue  wed\n",
              "0   56      no      no   no         1         0  ...    0    0    1   0    0    0\n",
              "1   57      no      no   no         1         0  ...    0    0    1   0    0    0\n",
              "2   37      no     yes   no         1         0  ...    0    0    1   0    0    0\n",
              "3   40      no      no   no         1         0  ...    0    0    1   0    0    0\n",
              "4   56      no      no  yes         1         0  ...    0    0    1   0    0    0\n",
              "\n",
              "[5 rows x 46 columns]"
            ]
          },
          "metadata": {
            "tags": []
          },
          "execution_count": 338
        }
      ]
    },
    {
      "cell_type": "code",
      "metadata": {
        "id": "93XJD-Ma1fyE",
        "colab_type": "code",
        "colab": {
          "base_uri": "https://localhost:8080/",
          "height": 231
        },
        "outputId": "73f7cc41-c497-4555-ac2c-e6cfa9e787e0"
      },
      "source": [
        "#Encoders\n",
        "data['default']=data['default'].replace({\"yes\": 1, \"no\": 0})\n",
        "data['housing']=data['housing'].replace({\"yes\": 1, \"no\": 0})\n",
        "data['loan']=data['loan'].replace({\"yes\": 1, \"no\": 0})\n",
        "data['y']=data['y'].replace({\"yes\": 1, \"no\": 0})\n",
        "data.head()"
      ],
      "execution_count": 339,
      "outputs": [
        {
          "output_type": "execute_result",
          "data": {
            "text/html": [
              "<div>\n",
              "<style scoped>\n",
              "    .dataframe tbody tr th:only-of-type {\n",
              "        vertical-align: middle;\n",
              "    }\n",
              "\n",
              "    .dataframe tbody tr th {\n",
              "        vertical-align: top;\n",
              "    }\n",
              "\n",
              "    .dataframe thead th {\n",
              "        text-align: right;\n",
              "    }\n",
              "</style>\n",
              "<table border=\"1\" class=\"dataframe\">\n",
              "  <thead>\n",
              "    <tr style=\"text-align: right;\">\n",
              "      <th></th>\n",
              "      <th>age</th>\n",
              "      <th>default</th>\n",
              "      <th>housing</th>\n",
              "      <th>loan</th>\n",
              "      <th>campaign</th>\n",
              "      <th>previous</th>\n",
              "      <th>cons.price.idx</th>\n",
              "      <th>cons.conf.idx</th>\n",
              "      <th>nr.employed</th>\n",
              "      <th>y</th>\n",
              "      <th>admin.</th>\n",
              "      <th>blue-collar</th>\n",
              "      <th>entrepreneur</th>\n",
              "      <th>housemaid</th>\n",
              "      <th>management</th>\n",
              "      <th>retired</th>\n",
              "      <th>self-employed</th>\n",
              "      <th>services</th>\n",
              "      <th>student</th>\n",
              "      <th>technician</th>\n",
              "      <th>unemployed</th>\n",
              "      <th>divorced</th>\n",
              "      <th>married</th>\n",
              "      <th>single</th>\n",
              "      <th>basic.4y</th>\n",
              "      <th>basic.6y</th>\n",
              "      <th>basic.9y</th>\n",
              "      <th>high.school</th>\n",
              "      <th>illiterate</th>\n",
              "      <th>professional.course</th>\n",
              "      <th>university.degree</th>\n",
              "      <th>apr</th>\n",
              "      <th>aug</th>\n",
              "      <th>dec</th>\n",
              "      <th>jul</th>\n",
              "      <th>jun</th>\n",
              "      <th>mar</th>\n",
              "      <th>may</th>\n",
              "      <th>nov</th>\n",
              "      <th>oct</th>\n",
              "      <th>sep</th>\n",
              "      <th>fri</th>\n",
              "      <th>mon</th>\n",
              "      <th>thu</th>\n",
              "      <th>tue</th>\n",
              "      <th>wed</th>\n",
              "    </tr>\n",
              "  </thead>\n",
              "  <tbody>\n",
              "    <tr>\n",
              "      <th>0</th>\n",
              "      <td>56</td>\n",
              "      <td>0</td>\n",
              "      <td>0</td>\n",
              "      <td>0</td>\n",
              "      <td>1</td>\n",
              "      <td>0</td>\n",
              "      <td>93.994</td>\n",
              "      <td>-36.4</td>\n",
              "      <td>5191.0</td>\n",
              "      <td>0</td>\n",
              "      <td>0</td>\n",
              "      <td>0</td>\n",
              "      <td>0</td>\n",
              "      <td>1</td>\n",
              "      <td>0</td>\n",
              "      <td>0</td>\n",
              "      <td>0</td>\n",
              "      <td>0</td>\n",
              "      <td>0</td>\n",
              "      <td>0</td>\n",
              "      <td>0</td>\n",
              "      <td>0</td>\n",
              "      <td>1</td>\n",
              "      <td>0</td>\n",
              "      <td>1</td>\n",
              "      <td>0</td>\n",
              "      <td>0</td>\n",
              "      <td>0</td>\n",
              "      <td>0</td>\n",
              "      <td>0</td>\n",
              "      <td>0</td>\n",
              "      <td>0</td>\n",
              "      <td>0</td>\n",
              "      <td>0</td>\n",
              "      <td>0</td>\n",
              "      <td>0</td>\n",
              "      <td>0</td>\n",
              "      <td>1</td>\n",
              "      <td>0</td>\n",
              "      <td>0</td>\n",
              "      <td>0</td>\n",
              "      <td>0</td>\n",
              "      <td>1</td>\n",
              "      <td>0</td>\n",
              "      <td>0</td>\n",
              "      <td>0</td>\n",
              "    </tr>\n",
              "    <tr>\n",
              "      <th>1</th>\n",
              "      <td>57</td>\n",
              "      <td>0</td>\n",
              "      <td>0</td>\n",
              "      <td>0</td>\n",
              "      <td>1</td>\n",
              "      <td>0</td>\n",
              "      <td>93.994</td>\n",
              "      <td>-36.4</td>\n",
              "      <td>5191.0</td>\n",
              "      <td>0</td>\n",
              "      <td>0</td>\n",
              "      <td>0</td>\n",
              "      <td>0</td>\n",
              "      <td>0</td>\n",
              "      <td>0</td>\n",
              "      <td>0</td>\n",
              "      <td>0</td>\n",
              "      <td>1</td>\n",
              "      <td>0</td>\n",
              "      <td>0</td>\n",
              "      <td>0</td>\n",
              "      <td>0</td>\n",
              "      <td>1</td>\n",
              "      <td>0</td>\n",
              "      <td>0</td>\n",
              "      <td>0</td>\n",
              "      <td>0</td>\n",
              "      <td>1</td>\n",
              "      <td>0</td>\n",
              "      <td>0</td>\n",
              "      <td>0</td>\n",
              "      <td>0</td>\n",
              "      <td>0</td>\n",
              "      <td>0</td>\n",
              "      <td>0</td>\n",
              "      <td>0</td>\n",
              "      <td>0</td>\n",
              "      <td>1</td>\n",
              "      <td>0</td>\n",
              "      <td>0</td>\n",
              "      <td>0</td>\n",
              "      <td>0</td>\n",
              "      <td>1</td>\n",
              "      <td>0</td>\n",
              "      <td>0</td>\n",
              "      <td>0</td>\n",
              "    </tr>\n",
              "    <tr>\n",
              "      <th>2</th>\n",
              "      <td>37</td>\n",
              "      <td>0</td>\n",
              "      <td>1</td>\n",
              "      <td>0</td>\n",
              "      <td>1</td>\n",
              "      <td>0</td>\n",
              "      <td>93.994</td>\n",
              "      <td>-36.4</td>\n",
              "      <td>5191.0</td>\n",
              "      <td>0</td>\n",
              "      <td>0</td>\n",
              "      <td>0</td>\n",
              "      <td>0</td>\n",
              "      <td>0</td>\n",
              "      <td>0</td>\n",
              "      <td>0</td>\n",
              "      <td>0</td>\n",
              "      <td>1</td>\n",
              "      <td>0</td>\n",
              "      <td>0</td>\n",
              "      <td>0</td>\n",
              "      <td>0</td>\n",
              "      <td>1</td>\n",
              "      <td>0</td>\n",
              "      <td>0</td>\n",
              "      <td>0</td>\n",
              "      <td>0</td>\n",
              "      <td>1</td>\n",
              "      <td>0</td>\n",
              "      <td>0</td>\n",
              "      <td>0</td>\n",
              "      <td>0</td>\n",
              "      <td>0</td>\n",
              "      <td>0</td>\n",
              "      <td>0</td>\n",
              "      <td>0</td>\n",
              "      <td>0</td>\n",
              "      <td>1</td>\n",
              "      <td>0</td>\n",
              "      <td>0</td>\n",
              "      <td>0</td>\n",
              "      <td>0</td>\n",
              "      <td>1</td>\n",
              "      <td>0</td>\n",
              "      <td>0</td>\n",
              "      <td>0</td>\n",
              "    </tr>\n",
              "    <tr>\n",
              "      <th>3</th>\n",
              "      <td>40</td>\n",
              "      <td>0</td>\n",
              "      <td>0</td>\n",
              "      <td>0</td>\n",
              "      <td>1</td>\n",
              "      <td>0</td>\n",
              "      <td>93.994</td>\n",
              "      <td>-36.4</td>\n",
              "      <td>5191.0</td>\n",
              "      <td>0</td>\n",
              "      <td>1</td>\n",
              "      <td>0</td>\n",
              "      <td>0</td>\n",
              "      <td>0</td>\n",
              "      <td>0</td>\n",
              "      <td>0</td>\n",
              "      <td>0</td>\n",
              "      <td>0</td>\n",
              "      <td>0</td>\n",
              "      <td>0</td>\n",
              "      <td>0</td>\n",
              "      <td>0</td>\n",
              "      <td>1</td>\n",
              "      <td>0</td>\n",
              "      <td>0</td>\n",
              "      <td>1</td>\n",
              "      <td>0</td>\n",
              "      <td>0</td>\n",
              "      <td>0</td>\n",
              "      <td>0</td>\n",
              "      <td>0</td>\n",
              "      <td>0</td>\n",
              "      <td>0</td>\n",
              "      <td>0</td>\n",
              "      <td>0</td>\n",
              "      <td>0</td>\n",
              "      <td>0</td>\n",
              "      <td>1</td>\n",
              "      <td>0</td>\n",
              "      <td>0</td>\n",
              "      <td>0</td>\n",
              "      <td>0</td>\n",
              "      <td>1</td>\n",
              "      <td>0</td>\n",
              "      <td>0</td>\n",
              "      <td>0</td>\n",
              "    </tr>\n",
              "    <tr>\n",
              "      <th>4</th>\n",
              "      <td>56</td>\n",
              "      <td>0</td>\n",
              "      <td>0</td>\n",
              "      <td>1</td>\n",
              "      <td>1</td>\n",
              "      <td>0</td>\n",
              "      <td>93.994</td>\n",
              "      <td>-36.4</td>\n",
              "      <td>5191.0</td>\n",
              "      <td>0</td>\n",
              "      <td>0</td>\n",
              "      <td>0</td>\n",
              "      <td>0</td>\n",
              "      <td>0</td>\n",
              "      <td>0</td>\n",
              "      <td>0</td>\n",
              "      <td>0</td>\n",
              "      <td>1</td>\n",
              "      <td>0</td>\n",
              "      <td>0</td>\n",
              "      <td>0</td>\n",
              "      <td>0</td>\n",
              "      <td>1</td>\n",
              "      <td>0</td>\n",
              "      <td>0</td>\n",
              "      <td>0</td>\n",
              "      <td>0</td>\n",
              "      <td>1</td>\n",
              "      <td>0</td>\n",
              "      <td>0</td>\n",
              "      <td>0</td>\n",
              "      <td>0</td>\n",
              "      <td>0</td>\n",
              "      <td>0</td>\n",
              "      <td>0</td>\n",
              "      <td>0</td>\n",
              "      <td>0</td>\n",
              "      <td>1</td>\n",
              "      <td>0</td>\n",
              "      <td>0</td>\n",
              "      <td>0</td>\n",
              "      <td>0</td>\n",
              "      <td>1</td>\n",
              "      <td>0</td>\n",
              "      <td>0</td>\n",
              "      <td>0</td>\n",
              "    </tr>\n",
              "  </tbody>\n",
              "</table>\n",
              "</div>"
            ],
            "text/plain": [
              "   age  default  housing  loan  campaign  ...  fri  mon  thu  tue  wed\n",
              "0   56        0        0     0         1  ...    0    1    0    0    0\n",
              "1   57        0        0     0         1  ...    0    1    0    0    0\n",
              "2   37        0        1     0         1  ...    0    1    0    0    0\n",
              "3   40        0        0     0         1  ...    0    1    0    0    0\n",
              "4   56        0        0     1         1  ...    0    1    0    0    0\n",
              "\n",
              "[5 rows x 46 columns]"
            ]
          },
          "metadata": {
            "tags": []
          },
          "execution_count": 339
        }
      ]
    },
    {
      "cell_type": "markdown",
      "metadata": {
        "id": "6EPastqqifIp",
        "colab_type": "text"
      },
      "source": [
        "#2. Division 70-30"
      ]
    },
    {
      "cell_type": "code",
      "metadata": {
        "id": "MmSDQ3DT9b7b",
        "colab_type": "code",
        "colab": {
          "base_uri": "https://localhost:8080/",
          "height": 52
        },
        "outputId": "5c4e1691-8392-4a2f-a99d-6538383c86c0"
      },
      "source": [
        "#División 70-30\n",
        "from sklearn.model_selection import train_test_split\n",
        "X = data.drop('y', axis = 1) \n",
        "Y = data['y']\n",
        "X_train, X_test, Y_train, Y_test = train_test_split(X, Y, test_size=0.3, stratify=Y)\n",
        "print(f'70% --> {Y_train.count()} Registros')\n",
        "print(f'30% --> {Y_test.count()} Registros')"
      ],
      "execution_count": 340,
      "outputs": [
        {
          "output_type": "stream",
          "text": [
            "70% --> 28831 Registros\n",
            "30% --> 12357 Registros\n"
          ],
          "name": "stdout"
        }
      ]
    },
    {
      "cell_type": "markdown",
      "metadata": {
        "id": "wGBnytJdtfgi",
        "colab_type": "text"
      },
      "source": [
        "# 3. Aprendizaje del Modelo"
      ]
    },
    {
      "cell_type": "markdown",
      "metadata": {
        "id": "cagYDvpo5kAK",
        "colab_type": "text"
      },
      "source": [
        "##A. Backpropagation"
      ]
    },
    {
      "cell_type": "code",
      "metadata": {
        "id": "voG25hz693a6",
        "colab_type": "code",
        "colab": {
          "base_uri": "https://localhost:8080/",
          "height": 408
        },
        "outputId": "9d9e0852-1cb0-4533-9b54-85ea41a44824"
      },
      "source": [
        "#Creación del modelo con el conjunto de entrenamiento\n",
        "from sklearn.neural_network import MLPClassifier\n",
        "model_A = MLPClassifier(activation=\"logistic\",hidden_layer_sizes=(23),learning_rate=\"adaptive\",learning_rate_init=0.9,\n",
        "                        momentum=0.3,max_iter=50,verbose=True,random_state=1)\n",
        "model_A.fit(X_train, Y_train)\n",
        "\n",
        "\n",
        "\n"
      ],
      "execution_count": 341,
      "outputs": [
        {
          "output_type": "stream",
          "text": [
            "Iteration 1, loss = 0.91825856\n",
            "Iteration 2, loss = 0.36699067\n",
            "Iteration 3, loss = 0.35985521\n",
            "Iteration 4, loss = 0.36801649\n",
            "Iteration 5, loss = 0.38509021\n",
            "Iteration 6, loss = 0.37319136\n",
            "Iteration 7, loss = 0.36875883\n",
            "Iteration 8, loss = 0.37437705\n",
            "Iteration 9, loss = 0.38282694\n",
            "Iteration 10, loss = 0.37510448\n",
            "Iteration 11, loss = 0.37210864\n",
            "Iteration 12, loss = 0.38751842\n",
            "Iteration 13, loss = 0.38169226\n",
            "Iteration 14, loss = 0.36859002\n",
            "Training loss did not improve more than tol=0.000100 for 10 consecutive epochs. Stopping.\n"
          ],
          "name": "stdout"
        },
        {
          "output_type": "execute_result",
          "data": {
            "text/plain": [
              "MLPClassifier(activation='logistic', alpha=0.0001, batch_size='auto',\n",
              "              beta_1=0.9, beta_2=0.999, early_stopping=False, epsilon=1e-08,\n",
              "              hidden_layer_sizes=23, learning_rate='adaptive',\n",
              "              learning_rate_init=0.9, max_fun=15000, max_iter=50, momentum=0.3,\n",
              "              n_iter_no_change=10, nesterovs_momentum=True, power_t=0.5,\n",
              "              random_state=1, shuffle=True, solver='adam', tol=0.0001,\n",
              "              validation_fraction=0.1, verbose=True, warm_start=False)"
            ]
          },
          "metadata": {
            "tags": []
          },
          "execution_count": 341
        }
      ]
    },
    {
      "cell_type": "code",
      "metadata": {
        "colab_type": "code",
        "id": "dDTJFtXRmCxO",
        "colab": {
          "base_uri": "https://localhost:8080/",
          "height": 746
        },
        "outputId": "aa8d8d62-0301-4d68-8e9e-2d84d6d097ae"
      },
      "source": [
        "print(model_A.coefs_)\n",
        "print(model_A.intercepts_)"
      ],
      "execution_count": 342,
      "outputs": [
        {
          "output_type": "stream",
          "text": [
            "[array([[-2.68342888e-03,  7.76592068e-24,  2.23849751e-02, ...,\n",
            "        -3.15808509e+00,  7.77251708e-45, -4.36309514e+00],\n",
            "       [-1.55054987e-17, -4.91451832e-26,  6.12209412e-34, ...,\n",
            "        -3.92924482e-35,  4.14760560e-34, -2.87287607e-07],\n",
            "       [ 2.59975168e-46, -5.86670020e-27,  2.33108841e-44, ...,\n",
            "        -5.04286382e-22,  1.43728703e-42, -1.85024213e-01],\n",
            "       ...,\n",
            "       [-2.76448438e-45, -1.19000407e-25,  2.40225614e-44, ...,\n",
            "         9.47678549e-46, -4.45850579e-44, -1.00473241e-02],\n",
            "       [-1.75873194e-45,  1.50036041e-26, -1.01294538e-44, ...,\n",
            "         8.37164304e-35,  8.62402309e-41, -2.83750637e-09],\n",
            "       [ 8.64043117e-43,  5.34336605e-25, -1.53544162e-44, ...,\n",
            "         1.52676099e-44,  2.80979951e-35, -5.69671807e-03]]), array([[-1.38300307],\n",
            "       [-1.20630851],\n",
            "       [-6.73592504],\n",
            "       [-3.9556995 ],\n",
            "       [-0.11926276],\n",
            "       [-0.74163491],\n",
            "       [-1.42128408],\n",
            "       [-1.65128964],\n",
            "       [-5.02373566],\n",
            "       [-2.22648301],\n",
            "       [-4.5676428 ],\n",
            "       [-0.11636403],\n",
            "       [ 1.74874976],\n",
            "       [ 6.99708135],\n",
            "       [-1.27452617],\n",
            "       [ 0.10846438],\n",
            "       [ 0.13933657],\n",
            "       [11.40294985],\n",
            "       [-4.86752326],\n",
            "       [-2.80477473],\n",
            "       [ 0.92223602],\n",
            "       [ 0.5837851 ],\n",
            "       [-3.80880272]])]\n",
            "[array([ -4.77753144, -21.75006497,   6.25003058,  -4.5243699 ,\n",
            "        22.40719042, -10.45464376,  -3.85072874,   6.32423012,\n",
            "        -4.48682644,  -4.46099523,   4.99312617,  -5.5366932 ,\n",
            "        -4.42576159,   7.12495899,  -4.66662104,  -4.6266768 ,\n",
            "        -4.28654331,   8.46941692,   4.80868409,  -3.28941594,\n",
            "        -4.6331467 ,   4.51727662,  -4.53829392]), array([-4.01009858])]\n"
          ],
          "name": "stdout"
        }
      ]
    },
    {
      "cell_type": "markdown",
      "metadata": {
        "id": "53Lyj7s85iVw",
        "colab_type": "text"
      },
      "source": [
        "##B. DeepLearning"
      ]
    },
    {
      "cell_type": "code",
      "metadata": {
        "colab_type": "code",
        "id": "teft6XCT4AsG",
        "colab": {
          "base_uri": "https://localhost:8080/",
          "height": 1000
        },
        "outputId": "bdcce04e-23cb-4b97-952e-fa8782f9998f"
      },
      "source": [
        "#Creación del modelo con el conjunto de entrenamiento\n",
        "from keras.models import Sequential\n",
        "from keras.layers.core import Dense\n",
        "model_B=Sequential()\n",
        "model_B.add(Dense(45,input_dim=45, activation='relu'))\n",
        "model_B.add(Dense(20, activation='relu'))\n",
        "model_B.add(Dense(1, activation='sigmoid'))\n",
        "model_B.compile(loss='mean_squared_error',optimizer='adam',metrics=['accuracy'])\n",
        "model_B.fit(X_train, Y_train, epochs=50)\n",
        "\n",
        "\n",
        "\n"
      ],
      "execution_count": 343,
      "outputs": [
        {
          "output_type": "stream",
          "text": [
            "Epoch 1/50\n",
            "901/901 [==============================] - 1s 931us/step - loss: 0.1127 - accuracy: 0.8873\n",
            "Epoch 2/50\n",
            "901/901 [==============================] - 1s 920us/step - loss: 0.1127 - accuracy: 0.8873\n",
            "Epoch 3/50\n",
            "901/901 [==============================] - 1s 929us/step - loss: 0.1127 - accuracy: 0.8873\n",
            "Epoch 4/50\n",
            "901/901 [==============================] - 1s 950us/step - loss: 0.1127 - accuracy: 0.8873\n",
            "Epoch 5/50\n",
            "901/901 [==============================] - 1s 963us/step - loss: 0.1127 - accuracy: 0.8873\n",
            "Epoch 6/50\n",
            "901/901 [==============================] - 1s 938us/step - loss: 0.1127 - accuracy: 0.8873\n",
            "Epoch 7/50\n",
            "901/901 [==============================] - 1s 952us/step - loss: 0.1127 - accuracy: 0.8873\n",
            "Epoch 8/50\n",
            "901/901 [==============================] - 1s 949us/step - loss: 0.1127 - accuracy: 0.8873\n",
            "Epoch 9/50\n",
            "901/901 [==============================] - 1s 944us/step - loss: 0.1127 - accuracy: 0.8873\n",
            "Epoch 10/50\n",
            "901/901 [==============================] - 1s 938us/step - loss: 0.1127 - accuracy: 0.8873\n",
            "Epoch 11/50\n",
            "901/901 [==============================] - 1s 906us/step - loss: 0.1127 - accuracy: 0.8873\n",
            "Epoch 12/50\n",
            "901/901 [==============================] - 1s 918us/step - loss: 0.1127 - accuracy: 0.8873\n",
            "Epoch 13/50\n",
            "901/901 [==============================] - 1s 948us/step - loss: 0.1127 - accuracy: 0.8873\n",
            "Epoch 14/50\n",
            "901/901 [==============================] - 1s 914us/step - loss: 0.1127 - accuracy: 0.8873\n",
            "Epoch 15/50\n",
            "901/901 [==============================] - 1s 916us/step - loss: 0.1127 - accuracy: 0.8873\n",
            "Epoch 16/50\n",
            "901/901 [==============================] - 1s 918us/step - loss: 0.1127 - accuracy: 0.8873\n",
            "Epoch 17/50\n",
            "901/901 [==============================] - 1s 913us/step - loss: 0.1127 - accuracy: 0.8873\n",
            "Epoch 18/50\n",
            "901/901 [==============================] - 1s 932us/step - loss: 0.1127 - accuracy: 0.8873\n",
            "Epoch 19/50\n",
            "901/901 [==============================] - 1s 908us/step - loss: 0.1127 - accuracy: 0.8873\n",
            "Epoch 20/50\n",
            "901/901 [==============================] - 1s 917us/step - loss: 0.1127 - accuracy: 0.8873\n",
            "Epoch 21/50\n",
            "901/901 [==============================] - 1s 967us/step - loss: 0.1127 - accuracy: 0.8873\n",
            "Epoch 22/50\n",
            "901/901 [==============================] - 1s 920us/step - loss: 0.1127 - accuracy: 0.8873\n",
            "Epoch 23/50\n",
            "901/901 [==============================] - 1s 917us/step - loss: 0.1127 - accuracy: 0.8873\n",
            "Epoch 24/50\n",
            "901/901 [==============================] - 1s 932us/step - loss: 0.1127 - accuracy: 0.8873\n",
            "Epoch 25/50\n",
            "901/901 [==============================] - 1s 919us/step - loss: 0.1127 - accuracy: 0.8873\n",
            "Epoch 26/50\n",
            "901/901 [==============================] - 1s 924us/step - loss: 0.1127 - accuracy: 0.8873\n",
            "Epoch 27/50\n",
            "901/901 [==============================] - 1s 897us/step - loss: 0.1127 - accuracy: 0.8873\n",
            "Epoch 28/50\n",
            "901/901 [==============================] - 1s 920us/step - loss: 0.1127 - accuracy: 0.8873\n",
            "Epoch 29/50\n",
            "901/901 [==============================] - 1s 920us/step - loss: 0.1127 - accuracy: 0.8873\n",
            "Epoch 30/50\n",
            "901/901 [==============================] - 1s 944us/step - loss: 0.1127 - accuracy: 0.8873\n",
            "Epoch 31/50\n",
            "901/901 [==============================] - 1s 915us/step - loss: 0.1127 - accuracy: 0.8873\n",
            "Epoch 32/50\n",
            "901/901 [==============================] - 1s 926us/step - loss: 0.1127 - accuracy: 0.8873\n",
            "Epoch 33/50\n",
            "901/901 [==============================] - 1s 939us/step - loss: 0.1127 - accuracy: 0.8873\n",
            "Epoch 34/50\n",
            "901/901 [==============================] - 1s 916us/step - loss: 0.1127 - accuracy: 0.8873\n",
            "Epoch 35/50\n",
            "901/901 [==============================] - 1s 929us/step - loss: 0.1127 - accuracy: 0.8873\n",
            "Epoch 36/50\n",
            "901/901 [==============================] - 1s 922us/step - loss: 0.1127 - accuracy: 0.8873\n",
            "Epoch 37/50\n",
            "901/901 [==============================] - 1s 936us/step - loss: 0.1127 - accuracy: 0.8873\n",
            "Epoch 38/50\n",
            "901/901 [==============================] - 1s 936us/step - loss: 0.1127 - accuracy: 0.8873\n",
            "Epoch 39/50\n",
            "901/901 [==============================] - 1s 948us/step - loss: 0.1127 - accuracy: 0.8873\n",
            "Epoch 40/50\n",
            "901/901 [==============================] - 1s 936us/step - loss: 0.1127 - accuracy: 0.8873\n",
            "Epoch 41/50\n",
            "901/901 [==============================] - 1s 962us/step - loss: 0.1127 - accuracy: 0.8873\n",
            "Epoch 42/50\n",
            "901/901 [==============================] - 1s 944us/step - loss: 0.1127 - accuracy: 0.8873\n",
            "Epoch 43/50\n",
            "901/901 [==============================] - 1s 932us/step - loss: 0.1127 - accuracy: 0.8873\n",
            "Epoch 44/50\n",
            "901/901 [==============================] - 1s 926us/step - loss: 0.1127 - accuracy: 0.8873\n",
            "Epoch 45/50\n",
            "901/901 [==============================] - 1s 905us/step - loss: 0.1127 - accuracy: 0.8873\n",
            "Epoch 46/50\n",
            "901/901 [==============================] - 1s 923us/step - loss: 0.1127 - accuracy: 0.8873\n",
            "Epoch 47/50\n",
            "901/901 [==============================] - 1s 912us/step - loss: 0.1127 - accuracy: 0.8873\n",
            "Epoch 48/50\n",
            "901/901 [==============================] - 1s 928us/step - loss: 0.1127 - accuracy: 0.8873\n",
            "Epoch 49/50\n",
            "901/901 [==============================] - 1s 904us/step - loss: 0.1127 - accuracy: 0.8873\n",
            "Epoch 50/50\n",
            "901/901 [==============================] - 1s 911us/step - loss: 0.1127 - accuracy: 0.8873\n"
          ],
          "name": "stdout"
        },
        {
          "output_type": "execute_result",
          "data": {
            "text/plain": [
              "<tensorflow.python.keras.callbacks.History at 0x7f0d6ea665f8>"
            ]
          },
          "metadata": {
            "tags": []
          },
          "execution_count": 343
        }
      ]
    },
    {
      "cell_type": "markdown",
      "metadata": {
        "id": "Xz_TXWNZ-SMF",
        "colab_type": "text"
      },
      "source": [
        "# 4. Evaluación del modelo sobre el conjunto de prueba\n",
        "- Exactitud\n"
      ]
    },
    {
      "cell_type": "markdown",
      "metadata": {
        "colab_type": "text",
        "id": "wBnJE3xrgzdD"
      },
      "source": [
        "##A. Backpropagation"
      ]
    },
    {
      "cell_type": "code",
      "metadata": {
        "id": "FNdzjHVr-SnE",
        "colab_type": "code",
        "colab": {
          "base_uri": "https://localhost:8080/",
          "height": 35
        },
        "outputId": "9ab5c9f1-e241-42eb-defc-de70516d4d6c"
      },
      "source": [
        "#Evaluación sobre el conjunto de prueba\n",
        "from sklearn import metrics\n",
        "Y_pred = model_A.predict(X_test)\n",
        "acc=metrics.accuracy_score(Y_test, Y_pred)\n",
        "print(f'Exactitud MLP: {acc}')\n"
      ],
      "execution_count": 344,
      "outputs": [
        {
          "output_type": "stream",
          "text": [
            "Exactitud MLP: 0.8873512988589464\n"
          ],
          "name": "stdout"
        }
      ]
    },
    {
      "cell_type": "markdown",
      "metadata": {
        "colab_type": "text",
        "id": "nJS4UDFmgzdH"
      },
      "source": [
        "##B. DeepLearning"
      ]
    },
    {
      "cell_type": "code",
      "metadata": {
        "id": "WpDlJyvkg8Jm",
        "colab_type": "code",
        "colab": {
          "base_uri": "https://localhost:8080/",
          "height": 52
        },
        "outputId": "84c6393e-5730-4629-ae3a-2b47c2b5342e"
      },
      "source": [
        "#Evaluación sobre el conjunto de prueba\n",
        "\n",
        "print(f'Exactitud Aprendizaje Profundo: {model_B.evaluate(X_test, Y_test)}')"
      ],
      "execution_count": 345,
      "outputs": [
        {
          "output_type": "stream",
          "text": [
            "387/387 [==============================] - 0s 696us/step - loss: 0.1126 - accuracy: 0.8874\n",
            "Exactitud Aprendizaje Profundo: [0.11264870315790176, 0.8873512744903564]\n"
          ],
          "name": "stdout"
        }
      ]
    },
    {
      "cell_type": "markdown",
      "metadata": {
        "id": "VeuWMLy0mDE_",
        "colab_type": "text"
      },
      "source": [
        "#5. Predicción de Datos Futuros"
      ]
    },
    {
      "cell_type": "code",
      "metadata": {
        "id": "t9-EcxE-_cuo",
        "colab_type": "code",
        "colab": {
          "base_uri": "https://localhost:8080/",
          "height": 231
        },
        "outputId": "bd5e7ca6-e45a-453a-dca8-a26d0a343306"
      },
      "source": [
        "#Cargamos los datos futuros\n",
        "data_fut = pd.read_csv(\"DatosFuturoPhyton.csv\", sep=\",\",na_values=\"unknown\")\n",
        "data_fut.head()\n",
        "\n",
        "\n"
      ],
      "execution_count": 346,
      "outputs": [
        {
          "output_type": "execute_result",
          "data": {
            "text/html": [
              "<div>\n",
              "<style scoped>\n",
              "    .dataframe tbody tr th:only-of-type {\n",
              "        vertical-align: middle;\n",
              "    }\n",
              "\n",
              "    .dataframe tbody tr th {\n",
              "        vertical-align: top;\n",
              "    }\n",
              "\n",
              "    .dataframe thead th {\n",
              "        text-align: right;\n",
              "    }\n",
              "</style>\n",
              "<table border=\"1\" class=\"dataframe\">\n",
              "  <thead>\n",
              "    <tr style=\"text-align: right;\">\n",
              "      <th></th>\n",
              "      <th>age</th>\n",
              "      <th>default</th>\n",
              "      <th>housing</th>\n",
              "      <th>loan</th>\n",
              "      <th>campaign</th>\n",
              "      <th>previous</th>\n",
              "      <th>cons.price.idx</th>\n",
              "      <th>cons.conf.idx</th>\n",
              "      <th>nr.employed</th>\n",
              "      <th>admin.</th>\n",
              "      <th>blue-collar</th>\n",
              "      <th>entrepreneur</th>\n",
              "      <th>housemaid</th>\n",
              "      <th>management</th>\n",
              "      <th>retired</th>\n",
              "      <th>self-employed</th>\n",
              "      <th>services</th>\n",
              "      <th>student</th>\n",
              "      <th>technician</th>\n",
              "      <th>unemployed</th>\n",
              "      <th>divorced</th>\n",
              "      <th>married</th>\n",
              "      <th>single</th>\n",
              "      <th>basic.4y</th>\n",
              "      <th>basic.6y</th>\n",
              "      <th>basic.9y</th>\n",
              "      <th>high.school</th>\n",
              "      <th>illiterate</th>\n",
              "      <th>professional.course</th>\n",
              "      <th>university.degree</th>\n",
              "      <th>apr</th>\n",
              "      <th>aug</th>\n",
              "      <th>dec</th>\n",
              "      <th>jul</th>\n",
              "      <th>jun</th>\n",
              "      <th>mar</th>\n",
              "      <th>may</th>\n",
              "      <th>nov</th>\n",
              "      <th>oct</th>\n",
              "      <th>sep</th>\n",
              "      <th>fri</th>\n",
              "      <th>mon</th>\n",
              "      <th>thu</th>\n",
              "      <th>tue</th>\n",
              "      <th>wed</th>\n",
              "    </tr>\n",
              "  </thead>\n",
              "  <tbody>\n",
              "    <tr>\n",
              "      <th>0</th>\n",
              "      <td>56</td>\n",
              "      <td>0</td>\n",
              "      <td>0</td>\n",
              "      <td>0</td>\n",
              "      <td>1</td>\n",
              "      <td>0</td>\n",
              "      <td>93.994</td>\n",
              "      <td>-36.4</td>\n",
              "      <td>5191.0</td>\n",
              "      <td>1</td>\n",
              "      <td>0</td>\n",
              "      <td>0</td>\n",
              "      <td>0</td>\n",
              "      <td>0</td>\n",
              "      <td>0</td>\n",
              "      <td>0</td>\n",
              "      <td>0</td>\n",
              "      <td>0</td>\n",
              "      <td>0</td>\n",
              "      <td>0</td>\n",
              "      <td>0</td>\n",
              "      <td>1</td>\n",
              "      <td>0</td>\n",
              "      <td>0</td>\n",
              "      <td>0</td>\n",
              "      <td>0</td>\n",
              "      <td>1</td>\n",
              "      <td>0</td>\n",
              "      <td>0</td>\n",
              "      <td>0</td>\n",
              "      <td>0</td>\n",
              "      <td>0</td>\n",
              "      <td>0</td>\n",
              "      <td>0</td>\n",
              "      <td>0</td>\n",
              "      <td>0</td>\n",
              "      <td>1</td>\n",
              "      <td>0</td>\n",
              "      <td>0</td>\n",
              "      <td>0</td>\n",
              "      <td>0</td>\n",
              "      <td>1</td>\n",
              "      <td>0</td>\n",
              "      <td>0</td>\n",
              "      <td>0</td>\n",
              "    </tr>\n",
              "    <tr>\n",
              "      <th>1</th>\n",
              "      <td>57</td>\n",
              "      <td>0</td>\n",
              "      <td>0</td>\n",
              "      <td>0</td>\n",
              "      <td>1</td>\n",
              "      <td>0</td>\n",
              "      <td>93.994</td>\n",
              "      <td>-36.4</td>\n",
              "      <td>5191.0</td>\n",
              "      <td>0</td>\n",
              "      <td>0</td>\n",
              "      <td>0</td>\n",
              "      <td>0</td>\n",
              "      <td>0</td>\n",
              "      <td>0</td>\n",
              "      <td>0</td>\n",
              "      <td>1</td>\n",
              "      <td>0</td>\n",
              "      <td>0</td>\n",
              "      <td>0</td>\n",
              "      <td>0</td>\n",
              "      <td>1</td>\n",
              "      <td>0</td>\n",
              "      <td>0</td>\n",
              "      <td>0</td>\n",
              "      <td>0</td>\n",
              "      <td>1</td>\n",
              "      <td>0</td>\n",
              "      <td>0</td>\n",
              "      <td>0</td>\n",
              "      <td>0</td>\n",
              "      <td>0</td>\n",
              "      <td>0</td>\n",
              "      <td>0</td>\n",
              "      <td>0</td>\n",
              "      <td>0</td>\n",
              "      <td>1</td>\n",
              "      <td>0</td>\n",
              "      <td>0</td>\n",
              "      <td>0</td>\n",
              "      <td>0</td>\n",
              "      <td>1</td>\n",
              "      <td>0</td>\n",
              "      <td>0</td>\n",
              "      <td>0</td>\n",
              "    </tr>\n",
              "    <tr>\n",
              "      <th>2</th>\n",
              "      <td>37</td>\n",
              "      <td>0</td>\n",
              "      <td>1</td>\n",
              "      <td>1</td>\n",
              "      <td>1</td>\n",
              "      <td>0</td>\n",
              "      <td>93.994</td>\n",
              "      <td>-36.4</td>\n",
              "      <td>5191.0</td>\n",
              "      <td>0</td>\n",
              "      <td>0</td>\n",
              "      <td>0</td>\n",
              "      <td>1</td>\n",
              "      <td>0</td>\n",
              "      <td>0</td>\n",
              "      <td>0</td>\n",
              "      <td>0</td>\n",
              "      <td>0</td>\n",
              "      <td>0</td>\n",
              "      <td>0</td>\n",
              "      <td>0</td>\n",
              "      <td>1</td>\n",
              "      <td>0</td>\n",
              "      <td>0</td>\n",
              "      <td>1</td>\n",
              "      <td>0</td>\n",
              "      <td>0</td>\n",
              "      <td>0</td>\n",
              "      <td>0</td>\n",
              "      <td>0</td>\n",
              "      <td>0</td>\n",
              "      <td>0</td>\n",
              "      <td>0</td>\n",
              "      <td>0</td>\n",
              "      <td>0</td>\n",
              "      <td>0</td>\n",
              "      <td>1</td>\n",
              "      <td>0</td>\n",
              "      <td>0</td>\n",
              "      <td>0</td>\n",
              "      <td>0</td>\n",
              "      <td>1</td>\n",
              "      <td>0</td>\n",
              "      <td>0</td>\n",
              "      <td>0</td>\n",
              "    </tr>\n",
              "    <tr>\n",
              "      <th>3</th>\n",
              "      <td>40</td>\n",
              "      <td>0</td>\n",
              "      <td>0</td>\n",
              "      <td>0</td>\n",
              "      <td>1</td>\n",
              "      <td>0</td>\n",
              "      <td>93.994</td>\n",
              "      <td>-36.4</td>\n",
              "      <td>5191.0</td>\n",
              "      <td>1</td>\n",
              "      <td>0</td>\n",
              "      <td>0</td>\n",
              "      <td>0</td>\n",
              "      <td>0</td>\n",
              "      <td>0</td>\n",
              "      <td>0</td>\n",
              "      <td>0</td>\n",
              "      <td>0</td>\n",
              "      <td>0</td>\n",
              "      <td>0</td>\n",
              "      <td>0</td>\n",
              "      <td>1</td>\n",
              "      <td>0</td>\n",
              "      <td>0</td>\n",
              "      <td>1</td>\n",
              "      <td>0</td>\n",
              "      <td>0</td>\n",
              "      <td>0</td>\n",
              "      <td>0</td>\n",
              "      <td>0</td>\n",
              "      <td>0</td>\n",
              "      <td>0</td>\n",
              "      <td>0</td>\n",
              "      <td>0</td>\n",
              "      <td>0</td>\n",
              "      <td>0</td>\n",
              "      <td>1</td>\n",
              "      <td>0</td>\n",
              "      <td>0</td>\n",
              "      <td>0</td>\n",
              "      <td>0</td>\n",
              "      <td>1</td>\n",
              "      <td>0</td>\n",
              "      <td>0</td>\n",
              "      <td>0</td>\n",
              "    </tr>\n",
              "    <tr>\n",
              "      <th>4</th>\n",
              "      <td>56</td>\n",
              "      <td>0</td>\n",
              "      <td>0</td>\n",
              "      <td>0</td>\n",
              "      <td>1</td>\n",
              "      <td>0</td>\n",
              "      <td>93.994</td>\n",
              "      <td>-36.4</td>\n",
              "      <td>5191.0</td>\n",
              "      <td>0</td>\n",
              "      <td>0</td>\n",
              "      <td>0</td>\n",
              "      <td>0</td>\n",
              "      <td>0</td>\n",
              "      <td>0</td>\n",
              "      <td>0</td>\n",
              "      <td>1</td>\n",
              "      <td>0</td>\n",
              "      <td>0</td>\n",
              "      <td>0</td>\n",
              "      <td>0</td>\n",
              "      <td>1</td>\n",
              "      <td>0</td>\n",
              "      <td>0</td>\n",
              "      <td>0</td>\n",
              "      <td>0</td>\n",
              "      <td>1</td>\n",
              "      <td>0</td>\n",
              "      <td>0</td>\n",
              "      <td>0</td>\n",
              "      <td>0</td>\n",
              "      <td>0</td>\n",
              "      <td>0</td>\n",
              "      <td>0</td>\n",
              "      <td>0</td>\n",
              "      <td>0</td>\n",
              "      <td>1</td>\n",
              "      <td>0</td>\n",
              "      <td>0</td>\n",
              "      <td>0</td>\n",
              "      <td>0</td>\n",
              "      <td>1</td>\n",
              "      <td>0</td>\n",
              "      <td>0</td>\n",
              "      <td>0</td>\n",
              "    </tr>\n",
              "  </tbody>\n",
              "</table>\n",
              "</div>"
            ],
            "text/plain": [
              "   age  default  housing  loan  campaign  ...  fri  mon  thu  tue  wed\n",
              "0   56        0        0     0         1  ...    0    1    0    0    0\n",
              "1   57        0        0     0         1  ...    0    1    0    0    0\n",
              "2   37        0        1     1         1  ...    0    1    0    0    0\n",
              "3   40        0        0     0         1  ...    0    1    0    0    0\n",
              "4   56        0        0     0         1  ...    0    1    0    0    0\n",
              "\n",
              "[5 rows x 45 columns]"
            ]
          },
          "metadata": {
            "tags": []
          },
          "execution_count": 346
        }
      ]
    },
    {
      "cell_type": "markdown",
      "metadata": {
        "colab_type": "text",
        "id": "2HTPkTmNjiGi"
      },
      "source": [
        "##A. Backpropagation"
      ]
    },
    {
      "cell_type": "code",
      "metadata": {
        "id": "xIZX6x17jjjh",
        "colab_type": "code",
        "colab": {
          "base_uri": "https://localhost:8080/",
          "height": 52
        },
        "outputId": "f73ee2d9-0335-48d1-fc41-730f1799a62c"
      },
      "source": [
        "#Prediccion\n",
        "print(\"Red Neuronal Backpropagation\")\n",
        "\n",
        "Y_fut_A = model_A.predict(data_fut)\n",
        "print(Y_fut_A)"
      ],
      "execution_count": 347,
      "outputs": [
        {
          "output_type": "stream",
          "text": [
            "Red Neuronal Backpropagation\n",
            "[0 0 0 0 0 0]\n"
          ],
          "name": "stdout"
        }
      ]
    },
    {
      "cell_type": "markdown",
      "metadata": {
        "colab_type": "text",
        "id": "Cv6gUVzZjiGt"
      },
      "source": [
        "##B. DeepLearning"
      ]
    },
    {
      "cell_type": "code",
      "metadata": {
        "id": "MdOR1UY8FPVH",
        "colab_type": "code",
        "colab": {
          "base_uri": "https://localhost:8080/",
          "height": 141
        },
        "outputId": "0a99579d-1bc7-495a-c8d2-7df20fbae631"
      },
      "source": [
        "#Prediccion\n",
        "print(\"Red Neuronal Profunda\")\n",
        "Y_fut_B = model_B.predict(data_fut)\n",
        "print(Y_fut_B.round())\n",
        "\n"
      ],
      "execution_count": 348,
      "outputs": [
        {
          "output_type": "stream",
          "text": [
            "Red Neuronal Profunda\n",
            "[[0.]\n",
            " [0.]\n",
            " [0.]\n",
            " [0.]\n",
            " [0.]\n",
            " [0.]]\n"
          ],
          "name": "stdout"
        }
      ]
    }
  ]
}